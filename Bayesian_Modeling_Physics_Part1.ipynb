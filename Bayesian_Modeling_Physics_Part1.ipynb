{
  "nbformat": 4,
  "nbformat_minor": 0,
  "metadata": {
    "colab": {
      "name": "Bayesian_Modeling_Physics_v2.ipynb",
      "version": "0.3.2",
      "provenance": [],
      "collapsed_sections": []
    },
    "kernelspec": {
      "name": "python3",
      "display_name": "Python 3"
    }
  },
  "cells": [
    {
      "metadata": {
        "id": "mMl_dhr4vBSp",
        "colab_type": "text"
      },
      "cell_type": "markdown",
      "source": [
        "# Fall detection for the elderly \n",
        "## Probabilistic Modeling of a Physical System\n",
        "\n",
        "\n",
        "\n",
        "\n",
        "We recently had the opportunity to design an algorithm for a wearable product that will detect falls in the elderly and infirm. The device incorporates a 3-axis accelerometer such as the [ADXL335](https://www.digikey.com/en/product-highlight/a/analog-devices/adxl335-small-low-power-3-axis-accelerometer?utm_adgroup=xGeneral&slid=&gclid=EAIaIQobChMI5v3hrpTY4QIVCL3sCh3SoQs6EAAYAiAAEgJMavD_BwE)\n",
        "which samples a MEMS accelerometer at 50 samples/second.-\n",
        "\n",
        "\n",
        "\n",
        "---\n",
        "\n",
        "\n",
        "\n",
        "## Challenge: Limited Training Data\n",
        "\n",
        "One of the unique challenges with this problem space, is the lack of training data. Collecting training data is difficult, specially in the case of false negatives where a mis-predection could make the difference between life and death. This also means that the prediction system must include a measure of uncertainity in addition to a fall/no-fall decision and a way for a system engineer to tune parameters to tradeoff\n",
        "false positives versues false negatives.\n",
        "\n",
        "Similar challenges with limited training data exist in other domains such as [space exploration ](https://medium.com/tensorflow/an-introduction-to-probabilistic-programming-now-available-in-tensorflow-probability-6dcc003ca29e)\n",
        "\n",
        "### A Note on Deep Learning\n",
        "\n",
        "```\n",
        "Choke me in the shallow waters before I get too deep \n",
        "...\n",
        "...\n",
        "Dont let me get too deep\n",
        "\n",
        "```\n",
        ">#### [What I Am](https://play.google.com/music/preview/Thnidvz7tqzljivzfnprdwwuquy?play=1&u=0),  Edie Brickell & New Bohemians\n",
        "\n",
        "\n",
        "\n",
        "There has been tremendous progress in recent years with deep learning as applied to tasks such as image recognition, machine translation or anomaly detection. However, there are several issues that limit its applicability to this problem -\n",
        "\n",
        "\n",
        "1.   Need large amounts of training data, otherwise there is a tendency to overfit\n",
        "2.   It is not possible to quantify uncertainty in the prediction. Recent attempts such as [Bayes by Backprop](https://arxiv.org/abs/1505.05424?context=cs) have taken a crack at this problem. However interpretability of these weight distributions still remains a challenge and being able to better quantify uncertainity in neural nets remains an area of active study.\n",
        "Also see this [NIPS 2017 talk](https://youtu.be/LVBvJsTr3rg?t=1199)  by Yee Whye for more context.\n",
        "3. Selecting the right neural network architecture still remains a bit of an art\n",
        "\n",
        "\n",
        "One approach to building a classifier would be define the features e.g. acceleration at time *t* and then feed that into a \"training machine\". This does us no good, due to the limited amount of training data. What we need is a way to limit the number of parameters being trained to tackle the data sparsity issue.\n",
        "\n",
        "\n",
        "\n",
        "---\n",
        "\n",
        "\n",
        "\n",
        "## Physics to the Rescue!\n",
        "\n",
        "\n",
        "![Acceleration Plots](https://i.imgur.com/HrdDBjc.gif  \"Acceleration Plots\")\n",
        "\n",
        "\n",
        "From the plot[1] above we can see that -\n",
        "\n",
        "\n",
        "1. The Y component of the acceleration experiences a shock effect as the subject hits the floor\n",
        "2. The total acceleration tends towards zero as the subjects enters into a period of freefall.\n",
        "\n",
        "This is true regardless of the nature of the subject, so we can use this fact to greatly simplify our model.\n",
        "Instead of fitting features based on raw sample values we will attempt to model the Y-component acceleration curve during the process of falling. \n",
        "\n",
        "\n",
        "\n",
        "## Solution Approach\n",
        "\n",
        "Roughly the recipe is as follows -\n",
        "\n",
        "\n",
        "1.   Define a model of the physical process. \n",
        "$g_y = e^{\\Theta*x}$\n",
        "\n",
        "2.   For each data trace fit an exponential curve and extract the parameter $\\Theta$\n",
        "\n",
        "3. Setup a probabilistic model with Likelihood and Priors for the parameter $\\Theta$\n",
        "\n",
        "4. Sample the Joint Distribution to extract the distribution for the priors\n",
        "\n",
        "5. Finally, posit a posterior with the mean defined by the physical model. Sample the posterior to generate predictions and confidence intervals\n",
        "\n",
        "\n",
        "\n"
      ]
    },
    {
      "metadata": {
        "id": "5LD1qQ8PvBSu",
        "colab_type": "text"
      },
      "cell_type": "markdown",
      "source": [
        "### Sample data\n",
        "\n",
        "Since the actual training data is confidential, we synthetically generate sample data for 8 falls assuming a sampling rate of 50 $samples/sec$ ( We also assume that the sensor saturates at $2g/s$ and the least count for the sensor reading  is $g/256$ but the actual details are not important for this example )"
      ]
    },
    {
      "metadata": {
        "id": "-0McO51AvBSv",
        "colab_type": "code",
        "colab": {}
      },
      "cell_type": "code",
      "source": [
        "import numpy as np\n",
        "import matplotlib.pyplot as plt\n",
        "import tensorflow as tf \n",
        "tf.enable_eager_execution()\n",
        "import tensorflow_probability as tfp\n",
        "tfd = tfp.distributions\n",
        "\n",
        "%load_ext autoreload\n",
        "%autoreload 2\n",
        "%matplotlib inline\n",
        "\n",
        "from tensorflow_probability.python.mcmc import util as mcmc_util\n",
        "import time\n",
        "import math \n",
        "from scipy.optimize import curve_fit\n",
        "\n",
        "## Setup Sample data\n",
        "x_range = [0, 50] # 1 sec sample\n",
        "# t_range = [0.11, 0.12] # range of theta values\n",
        "\n",
        "# IMPORTANT: exponent values have been multiplied by 10 to prevent numeric stability issues\n",
        "t_range = [0.5, 1.1] # range of theta values\n",
        "n_falls = 8 # number of falls\n",
        "t = t_range[0] + (t_range[1]-t_range[0])*np.random.rand(n_falls)\n",
        "\n",
        "def func(x, a, b, c):\n",
        "  return np.exp(a * x)\n",
        "\n",
        "  \n",
        "def load_dataset(n=50, theta=0.11):\n",
        "  def s(x):\n",
        "    return np.exp(theta*x)\n",
        "  \n",
        "  np.random.seed(43)\n",
        "  x = np.linspace(*x_range, num=n).astype(np.int)\n",
        "#   y = s(x) + np.random.rand(n)*s(x)*np.random.choice([1,-1])/2.\n",
        "  y = s(x) + 4.0 * np.random.normal(size=n)\n",
        "  return y, x\n",
        "\n",
        "# generate raw data samples\n",
        "raw_samples = []\n",
        "\n",
        "# observations are sample values for ${\\Theta}\n",
        "observations = []\n",
        "for theta in t:\n",
        "  y,x = load_dataset(theta=theta)\n",
        "  popt, pcov = curve_fit(func, x, y)\n",
        "  observations.append(popt[0])\n",
        "  raw_samples.append(y)\n",
        "  \n",
        "  \n",
        "plt.figure(figsize=[8,5])\n",
        "plt.plot(x,raw_samples[0],'b.',label='sample data',linewidth=4)\n",
        "plt.legend()\n",
        "\n",
        "# print(observations)\n",
        "#plt.plot(x,raw_samples[1],'b.',label='sample',linewidth=4)"
      ],
      "execution_count": 0,
      "outputs": []
    },
    {
      "metadata": {
        "id": "WhthNI7qvBSx",
        "colab_type": "text"
      },
      "cell_type": "markdown",
      "source": [
        "### Model Setup\n",
        "\n",
        "For the purposes of this example, the physical model is quite simple. We model the Y-component of the gravitational acceleration as seen by the accelerometer sensor\n",
        "\n",
        " $g_y = e^{\\Theta*x}$ \n",
        " \n",
        "We assume that ${\\Theta}$ follows a Exponential distribution, since we are only interested in positive real values\n",
        "${\\Theta}$ ~  $Exponential(0.5)$\n",
        "\n",
        "We also set some hyperparameters. A natural choice is the Gamma distribution, and we set it up as $Gamma(0.35,1)$ to reflect our prior knowledge of the expected value of ${\\Theta}$\n"
      ]
    },
    {
      "metadata": {
        "id": "dL95iWaWlhU5",
        "colab_type": "text"
      },
      "cell_type": "markdown",
      "source": [
        "---"
      ]
    },
    {
      "metadata": {
        "id": "T62YqY5pvBSx",
        "colab_type": "code",
        "outputId": "8e35f2e0-5fc0-418c-d424-c37237905b6f",
        "colab": {
          "base_uri": "https://localhost:8080/",
          "height": 658
        }
      },
      "cell_type": "code",
      "source": [
        "theta = tfd.Exponential(rate=0.5, name=\"theta_sample\")\n",
        "\n",
        "    \n",
        "# Visualize our stepwise prior distribution\n",
        "samples = theta.sample(sample_shape=20000)\n",
        "plt.figure(figsize=[12.5, 5])\n",
        "plt.hist(samples, bins=70, density=True, histtype=\"stepfilled\")\n",
        "plt.title(r\"Prior distribution for $\\theta$\")\n",
        "plt.xlim(0, 8);\n",
        "\n",
        "samples = []\n",
        "alpha = 0.35 \n",
        "beta  = 1.0\n",
        "gamma = tfd.Gamma(concentration=alpha, rate=beta)\n",
        "\n",
        "samples = gamma.sample(sample_shape=20000)\n",
        "plt.figure(figsize=[12.5, 5])\n",
        "plt.hist(samples, bins=70, density=True, histtype=\"stepfilled\")\n",
        "plt.title(r\"Prior distribution for $\\gamma$\")\n",
        "plt.xlim(0, 8);"
      ],
      "execution_count": 7,
      "outputs": [
        {
          "output_type": "display_data",
          "data": {
            "image/png": "[encoded data removed]",
            "text/plain": [
              "<Figure size 900x360 with 1 Axes>"
            ]
          },
          "metadata": {
            "tags": []
          }
        },
        {
          "output_type": "display_data",
          "data": {
            "image/png": "[encoded data removed]",
            "text/plain": [
              "<Figure size 900x360 with 1 Axes>"
            ]
          },
          "metadata": {
            "tags": []
          }
        }
      ]
    },
    {
      "metadata": {
        "id": "J31WHOgylWfS",
        "colab_type": "text"
      },
      "cell_type": "markdown",
      "source": [
        " ---"
      ]
    },
    {
      "metadata": {
        "id": "ddBvEG1YzurT",
        "colab_type": "text"
      },
      "cell_type": "markdown",
      "source": [
        "A useful way to visualize probabilistic models is via an inference graph\n",
        "![Probabilistic Graph Model](https://i.imgur.com/lgHuSiF.png)"
      ]
    }
  ]
}